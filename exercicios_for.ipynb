{
 "cells": [
  {
   "cell_type": "code",
   "execution_count": 1,
   "metadata": {},
   "outputs": [
    {
     "name": "stdout",
     "output_type": "stream",
     "text": [
      "0\n",
      "1\n",
      "2\n",
      "3\n",
      "4\n"
     ]
    }
   ],
   "source": [
    "for i in range (5): #nesse caso você já chega com a variável aqui (i) você não precisa declarar ela\n",
    "    print(i)\n",
    "\n",
    "    #seria semelhante ao código:\n",
    "             # i = 0\n",
    "            #for i in range (0, 5, 1):   (aqui 0 seria o início, 5 seria o fim, 1 seria o passo, se eu colocar só um número ele já entende que é o passo )\n",
    "            #print(i)\n",
    "    \n",
    "    # no caso, se eu não coloco nada, ele entende que é o fim\n",
    "    # se eu quiser colocar o passo, obrigatoriamente vou ter que ter o início declarado também, senão ele vai entender que você declarou o início e o fim (ele não vai entender que os 2 números no parênteses são o fim e o passo)"
   ]
  },
  {
   "cell_type": "code",
   "execution_count": 3,
   "metadata": {},
   "outputs": [
    {
     "name": "stdout",
     "output_type": "stream",
     "text": [
      "Nome 1: Ana\n",
      "Nome 2: Beatriz\n",
      "Nome 3: Carlos\n",
      "Nome 4: Diego\n",
      "Nome 5: Felícia\n"
     ]
    }
   ],
   "source": [
    "nomes = [\"Ana\", \"Beatriz\", \"Carlos\", \"Diego\", \"Felícia\" ]\n",
    "\n",
    "for posicao in range(len(nomes)): #posicao é a variável que eu criei aqui\n",
    "    print(f\"Nome {posicao + 1}: {nomes[posicao]}\") \n",
    "\n",
    "     #aqui eu digo printe na tela Nome + variável posicao - que por padrão eu começo em 0 - somado a 1, porque a lista começa em 0\n",
    "     #para que ele me diga que é posição 0 e não 1 eu já começo pedindo para que o programa some 1 a ele\n",
    "     #aí eu peço para que ele me retorne o nome que está naquela posicao (pegue a variável nome e me retorne o valor que está em naquela posicao)"
   ]
  },
  {
   "cell_type": "markdown",
   "metadata": {},
   "source": [
    "Exercicio 1 for:\n",
    "imprimir números pares de 1 a 10"
   ]
  },
  {
   "cell_type": "code",
   "execution_count": 9,
   "metadata": {},
   "outputs": [
    {
     "name": "stdout",
     "output_type": "stream",
     "text": [
      "Os números pares de 1 a 10 são: \n",
      "2\n",
      "4\n",
      "6\n",
      "8\n",
      "10\n"
     ]
    }
   ],
   "source": [
    "print(\"Os números pares de 1 a 10 são: \")\n",
    "\n",
    "for numero in range(1, 11, 1):\n",
    "    if numero % 2 == 0:\n",
    "        print(numero)"
   ]
  },
  {
   "cell_type": "markdown",
   "metadata": {},
   "source": [
    "Exercício 2 for:\n",
    "Calcule a soma dos primeiros 5 números naturais"
   ]
  },
  {
   "cell_type": "code",
   "execution_count": 14,
   "metadata": {},
   "outputs": [
    {
     "name": "stdout",
     "output_type": "stream",
     "text": [
      "A soma dos primeiros 5 números naturais é: 15\n"
     ]
    }
   ],
   "source": [
    "soma = 0\n",
    "\n",
    "for numero in range(1, 6):\n",
    "    soma += numero\n",
    "\n",
    "print(f\"A soma dos primeiros 5 números naturais é: {soma}\")"
   ]
  }
 ],
 "metadata": {
  "kernelspec": {
   "display_name": "Python 3",
   "language": "python",
   "name": "python3"
  },
  "language_info": {
   "codemirror_mode": {
    "name": "ipython",
    "version": 3
   },
   "file_extension": ".py",
   "mimetype": "text/x-python",
   "name": "python",
   "nbconvert_exporter": "python",
   "pygments_lexer": "ipython3",
   "version": "3.12.3"
  }
 },
 "nbformat": 4,
 "nbformat_minor": 2
}
