{
 "cells": [
  {
   "cell_type": "markdown",
   "metadata": {},
   "source": [
    "Exemplo 1 aula: contador de balas"
   ]
  },
  {
   "cell_type": "code",
   "execution_count": 2,
   "metadata": {},
   "outputs": [
    {
     "name": "stdout",
     "output_type": "stream",
     "text": [
      "Você tem 0 balas\n",
      "Você tem 1 balas\n",
      "Você tem 2 balas\n",
      "Você tem 3 balas\n",
      "Você tem 4 balas\n"
     ]
    }
   ],
   "source": [
    "balas = 0\n",
    "\n",
    "while balas < 5:\n",
    "    print(f\"Você tem {balas} balas\")\n",
    "    balas = balas + 1\n",
    "    "
   ]
  },
  {
   "cell_type": "markdown",
   "metadata": {},
   "source": [
    "Exemplo 2 aula: balde cheio"
   ]
  },
  {
   "cell_type": "code",
   "execution_count": 4,
   "metadata": {},
   "outputs": [
    {
     "name": "stdout",
     "output_type": "stream",
     "text": [
      "O balde ainda não está cheio,. Tenho apenas 0 litros de água no balde.\n",
      "O balde ainda não está cheio,. Tenho apenas 1 litros de água no balde.\n",
      "O balde ainda não está cheio,. Tenho apenas 2 litros de água no balde.\n",
      "O balde ainda não está cheio,. Tenho apenas 3 litros de água no balde.\n",
      "O balde ainda não está cheio,. Tenho apenas 4 litros de água no balde.\n",
      "O balde está cheio! 💦\n"
     ]
    }
   ],
   "source": [
    "agua_no_balde = 0 #variável que determina que o balde começa com 0, ou seja, vazio\n",
    "balde_cheio = 5 #variável que determina que o balde está cheio quando atingir 5\n",
    "\n",
    "while agua_no_balde < balde_cheio:\n",
    "    print (f\"O balde ainda não está cheio,. Tenho apenas {agua_no_balde} litros de água no balde.\")\n",
    "    agua_no_balde =    agua_no_balde + 1\n",
    "\n",
    "print(\"O balde está cheio! 💦\")"
   ]
  },
  {
   "cell_type": "markdown",
   "metadata": {},
   "source": [
    "Exercício 1: Faça um contador que vá de 5 a 1 e imprima uma mensagem final."
   ]
  },
  {
   "cell_type": "code",
   "execution_count": 7,
   "metadata": {},
   "outputs": [
    {
     "name": "stdout",
     "output_type": "stream",
     "text": [
      "Contagem regressiva:  5\n",
      "Contagem regressiva:  4\n",
      "Contagem regressiva:  3\n",
      "Contagem regressiva:  2\n",
      "Contagem regressiva:  1\n",
      "O tempo acabou!\n"
     ]
    }
   ],
   "source": [
    "tempo = 5\n",
    "tempo_final = 0\n",
    "\n",
    "while tempo != tempo_final:\n",
    "    print(f\"Contagem regressiva:  {tempo}\")\n",
    "    tempo -= 1\n",
    "\n",
    "print(\"O tempo acabou!\")"
   ]
  },
  {
   "cell_type": "markdown",
   "metadata": {},
   "source": [
    "Exercício 2: Tabuada de Multiplicação\n",
    "Nesse exercício, o programa calcula e exibe a tabuada de multiplicação de um número escolhido pelo usuário"
   ]
  },
  {
   "cell_type": "code",
   "execution_count": 29,
   "metadata": {},
   "outputs": [
    {
     "name": "stdout",
     "output_type": "stream",
     "text": [
      "6 x 0 = 0\n",
      "6 x 1 = 6\n",
      "6 x 2 = 12\n",
      "6 x 3 = 18\n",
      "6 x 4 = 24\n",
      "6 x 5 = 30\n",
      "6 x 6 = 36\n",
      "6 x 7 = 42\n",
      "6 x 8 = 48\n",
      "6 x 9 = 54\n",
      "6 x 10 = 60\n",
      "Essa é a tabuada do 6\n"
     ]
    }
   ],
   "source": [
    "multiplicador = 0\n",
    "numero = int(input(\"Insira um número para exibir sua tabuada\"))\n",
    "\n",
    "while multiplicador <= 10:\n",
    "   resultado = (numero * multiplicador)\n",
    "   print(f\"{numero} x {multiplicador} = {resultado}\")\n",
    "   multiplicador += 1\n",
    "   \n",
    "print(f\"Essa é a tabuada do {numero}\")\n",
    "    "
   ]
  },
  {
   "cell_type": "markdown",
   "metadata": {},
   "source": []
  }
 ],
 "metadata": {
  "kernelspec": {
   "display_name": "Python 3",
   "language": "python",
   "name": "python3"
  },
  "language_info": {
   "codemirror_mode": {
    "name": "ipython",
    "version": 3
   },
   "file_extension": ".py",
   "mimetype": "text/x-python",
   "name": "python",
   "nbconvert_exporter": "python",
   "pygments_lexer": "ipython3",
   "version": "3.12.3"
  }
 },
 "nbformat": 4,
 "nbformat_minor": 2
}
