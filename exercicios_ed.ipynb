{
 "cells": [
  {
   "cell_type": "markdown",
   "metadata": {},
   "source": [
    "exemplo 1 aula:"
   ]
  },
  {
   "cell_type": "code",
   "execution_count": 2,
   "metadata": {},
   "outputs": [
    {
     "name": "stdout",
     "output_type": "stream",
     "text": [
      "maçã\n",
      "banana\n",
      "pão\n",
      "leite\n",
      "queijo\n"
     ]
    }
   ],
   "source": [
    "lista_de_compras = [\"maçã\", \"banana\", \"pão\", \"leite\", \"queijo\"]\n",
    "\n",
    "for item in lista_de_compras:\n",
    "    print(item)"
   ]
  },
  {
   "cell_type": "markdown",
   "metadata": {},
   "source": [
    "Exercicio 1 estrutura de dados: Trabalhando com tuplas\n",
    "Objetivo: Criar uma tupla com nomes de cores e imprimir cada cor"
   ]
  },
  {
   "cell_type": "code",
   "execution_count": 3,
   "metadata": {},
   "outputs": [
    {
     "name": "stdout",
     "output_type": "stream",
     "text": [
      "amarelo\n",
      "azul-anil\n",
      "verde\n",
      "roxo\n",
      "vermelho\n"
     ]
    }
   ],
   "source": [
    "cores = (\"amarelo\", \"azul-anil\", \"verde\", \"roxo\", \"vermelho\")\n",
    "\n",
    "for cor in cores:\n",
    "    print(cor)"
   ]
  },
  {
   "cell_type": "markdown",
   "metadata": {},
   "source": [
    "Exercício 2 estrutura de dados: Trabalhando com Dicionários\n",
    "\n",
    "Definindo um dicionário com informações sobre filmes"
   ]
  },
  {
   "cell_type": "code",
   "execution_count": 10,
   "metadata": {},
   "outputs": [
    {
     "name": "stdout",
     "output_type": "stream",
     "text": [
      "O resumo do filme O Náufrago é: homem perdido na ilha fica cabeludo\n",
      "O resumo do filme O Rei Leão é: tio mata o pai do Simba e depois Simba vira rei\n",
      "O resumo do filme O Diabo Veste Prada é: mulher que não se arrumava começa a se arrumar por causa do emprego\n",
      "O resumo do filme Mad Max é: muito carro no deserto e as pessoas morrem muito\n"
     ]
    }
   ],
   "source": [
    "informacoes_filmes = {\n",
    "    \"O Náufrago\" : \"homem perdido na ilha fica cabeludo\",\n",
    "    \"O Rei Leão\" : \"tio mata o pai do Simba e depois Simba vira rei\",\n",
    "    \"O Diabo Veste Prada\" : \"mulher que não se arrumava começa a se arrumar por causa do emprego\",\n",
    "    \"Mad Max\" : \"muito carro no deserto e as pessoas morrem muito\"\n",
    "}\n",
    "\n",
    "for filme, resumo in informacoes_filmes.items():\n",
    "    print(f\"O resumo do filme {filme} é: {resumo}\")\n",
    "\n",
    "    #dentro de um dict eu vou ter um conjunto de \"chave e valor\" chave antes da vírgula e valor depois da vírgula\n",
    "    #preciso usar aquele .items para que ele leia o dicionário e percorra os itens que estão no interior do dicionário\n",
    "    #.items é algo criado para ler as informações que estão em chave e valor"
   ]
  },
  {
   "cell_type": "markdown",
   "metadata": {},
   "source": []
  }
 ],
 "metadata": {
  "kernelspec": {
   "display_name": "Python 3",
   "language": "python",
   "name": "python3"
  },
  "language_info": {
   "codemirror_mode": {
    "name": "ipython",
    "version": 3
   },
   "file_extension": ".py",
   "mimetype": "text/x-python",
   "name": "python",
   "nbconvert_exporter": "python",
   "pygments_lexer": "ipython3",
   "version": "3.12.3"
  }
 },
 "nbformat": 4,
 "nbformat_minor": 2
}
