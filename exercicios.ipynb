{
 "cells": [
  {
   "cell_type": "code",
   "execution_count": 2,
   "metadata": {},
   "outputs": [
    {
     "name": "stdout",
     "output_type": "stream",
     "text": [
      "Você tem 0 balas\n",
      "Você tem 1 balas\n",
      "Você tem 2 balas\n",
      "Você tem 3 balas\n",
      "Você tem 4 balas\n"
     ]
    }
   ],
   "source": [
    "balas = 0\n",
    "\n",
    "while balas < 5:\n",
    "    print(f\"Você tem {balas} balas\")\n",
    "    balas = balas + 1\n",
    "    "
   ]
  },
  {
   "cell_type": "code",
   "execution_count": 4,
   "metadata": {},
   "outputs": [
    {
     "name": "stdout",
     "output_type": "stream",
     "text": [
      "O balde ainda não está cheio,. Tenho apenas 0 litros de água no balde.\n",
      "O balde ainda não está cheio,. Tenho apenas 1 litros de água no balde.\n",
      "O balde ainda não está cheio,. Tenho apenas 2 litros de água no balde.\n",
      "O balde ainda não está cheio,. Tenho apenas 3 litros de água no balde.\n",
      "O balde ainda não está cheio,. Tenho apenas 4 litros de água no balde.\n",
      "O balde está cheio! 💦\n"
     ]
    }
   ],
   "source": [
    "agua_no_balde = 0 #variável que determina que o balde começa com 0, ou seja, vazio\n",
    "balde_cheio = 5 #variável que determina que o balde está cheio quando atingir 5\n",
    "\n",
    "while agua_no_balde < balde_cheio:\n",
    "    print (f\"O balde ainda não está cheio,. Tenho apenas {agua_no_balde} litros de água no balde.\")\n",
    "    agua_no_balde =    agua_no_balde + 1\n",
    "\n",
    "print(\"O balde está cheio! 💦\")"
   ]
  }
 ],
 "metadata": {
  "kernelspec": {
   "display_name": "Python 3",
   "language": "python",
   "name": "python3"
  },
  "language_info": {
   "codemirror_mode": {
    "name": "ipython",
    "version": 3
   },
   "file_extension": ".py",
   "mimetype": "text/x-python",
   "name": "python",
   "nbconvert_exporter": "python",
   "pygments_lexer": "ipython3",
   "version": "3.12.3"
  }
 },
 "nbformat": 4,
 "nbformat_minor": 2
}
